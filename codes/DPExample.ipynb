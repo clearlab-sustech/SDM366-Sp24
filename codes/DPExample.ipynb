{
 "cells": [
  {
   "cell_type": "code",
   "execution_count": 3,
   "metadata": {},
   "outputs": [
    {
     "name": "stdout",
     "output_type": "stream",
     "text": [
      "[[ 0  4 -1 -1 -1 -1  6 -1]\n",
      " [ 4  0  3 -1 -1 -1 -1  3]\n",
      " [-1  3  0  6 -1 -1 -1 -1]\n",
      " [-1 -1  6  0  2 -1 -1  5]\n",
      " [-1 -1 -1  2  0  3 -1  4]\n",
      " [-1 -1 -1 -1  3  0  4 -1]\n",
      " [ 6 -1 -1 -1 -1  4  0  2]\n",
      " [-1  3 -1  5  4 -1  2  0]]\n"
     ]
    }
   ],
   "source": [
    "import numpy as np\n",
    "import matplotlib.pyplot as plt\n",
    "\n",
    "costMatrix = np.array([[0, 4, -1, -1, -1, -1, 6, -1], \n",
    "                [4, 0, 3, -1, -1, -1, -1, 5],\n",
    "                [-1, 3, 0, 6, -1, -1, -1, -1],\n",
    "                [-1, -1, 6, 0, 2, -1, -1, 5],\n",
    "                [-1,-1,-1,2,0,3,-1,4],\n",
    "                [-1,-1,-1,-1,3,0,4,-1],\n",
    "                [6,-1,-1,-1,-1,4,0,2], \n",
    "                [-1,3,-1,5,4,-1,2,0]])\n",
    "print(costMatrix)"
   ]
  },
  {
   "cell_type": "code",
   "execution_count": 9,
   "metadata": {},
   "outputs": [],
   "source": [
    "def ValueIter(Vfunc, costMatrix, xf):\n",
    "    n = costMatrix.shape[0]  #number of state \n",
    "    costComp =-1*np.ones(n)\n",
    "    Vnext = -1*np.ones(n)\n",
    "    mustar = -1*np.ones(n)\n",
    "    for xi in range(n):\n",
    "        if xi==xf:\n",
    "            Vnext[xi] = Vfunc[xi]\n",
    "            mustar[xi] = xi\n",
    "        else:\n",
    "            for ui in range(n):\n",
    "                xnext = ui\n",
    "                if costMatrix[xi,ui]==-1:\n",
    "                    costComp[ui] = 10**7\n",
    "                else:\n",
    "                    costComp[ui] = costMatrix[xi,ui] + Vfunc[xnext]\n",
    "            Vnext[xi] = np.amin(costComp)\n",
    "            mustar[xi] = np.argmin(costComp)\n",
    "    return Vnext, mustar"
   ]
  },
  {
   "cell_type": "code",
   "execution_count": 13,
   "metadata": {},
   "outputs": [],
   "source": [
    "## test our algorithm \n",
    "\n",
    "# find the optimal path to a4\n",
    "\n",
    "n = 8\n",
    "N = 4\n",
    "xf = 3\n",
    "#define terminal cost \n",
    "\n",
    "g = 10**7*np.ones(n)\n",
    "g[xf] = 0\n",
    "\n",
    "V = np.zeros((N,n))\n",
    "mustar = np.zeros((N,n))\n",
    "V[0,:] = g\n",
    "for j in range(N-1):\n",
    "    V[j+1,:],mustar[j+1,:] = ValueIter(V[j,:],costMatrix,xf)\n"
   ]
  },
  {
   "cell_type": "code",
   "execution_count": 14,
   "metadata": {},
   "outputs": [
    {
     "name": "stdout",
     "output_type": "stream",
     "text": [
      "[[0. 0. 0. 0. 0. 0. 0. 0.]\n",
      " [0. 1. 3. 3. 3. 0. 1. 3.]\n",
      " [0. 7. 2. 3. 3. 4. 7. 3.]\n",
      " [1. 1. 2. 3. 3. 4. 6. 3.]]\n"
     ]
    }
   ],
   "source": [
    "print(mustar)"
   ]
  },
  {
   "cell_type": "code",
   "execution_count": 18,
   "metadata": {},
   "outputs": [
    {
     "name": "stdout",
     "output_type": "stream",
     "text": [
      "[0. 1. 7. 3.]\n"
     ]
    }
   ],
   "source": [
    "# test \n",
    "x = -1*np.ones(N)   #state trajectory / optimal path initialization\n",
    "x[0] = 0\n",
    "\n",
    "for k in range(N-1):\n",
    "    x[k+1] = mustar[N-1-k,x[k].astype(int)]\n",
    "\n",
    "print(x)"
   ]
  }
 ],
 "metadata": {
  "kernelspec": {
   "display_name": "Python 3",
   "language": "python",
   "name": "python3"
  },
  "language_info": {
   "codemirror_mode": {
    "name": "ipython",
    "version": 3
   },
   "file_extension": ".py",
   "mimetype": "text/x-python",
   "name": "python",
   "nbconvert_exporter": "python",
   "pygments_lexer": "ipython3",
   "version": "3.10.7"
  }
 },
 "nbformat": 4,
 "nbformat_minor": 2
}
